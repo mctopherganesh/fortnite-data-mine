{
 "cells": [
  {
   "cell_type": "code",
   "execution_count": 1,
   "metadata": {},
   "outputs": [
    {
     "name": "stdout",
     "output_type": "stream",
     "text": [
      "/home/christopher/slay_the_lobby/pictures/2018/10/23\n"
     ]
    }
   ],
   "source": [
    "cd pictures/2018/10/23/"
   ]
  },
  {
   "cell_type": "code",
   "execution_count": 2,
   "metadata": {},
   "outputs": [
    {
     "name": "stdout",
     "output_type": "stream",
     "text": [
      "\u001b[0m\u001b[01;35m2018102311123800-F489C99A244DF57DCBDC4BFD2DB926F1.jpg\u001b[0m\r\n",
      "\u001b[01;35m2018102315121300-F489C99A244DF57DCBDC4BFD2DB926F1.jpg\u001b[0m\r\n",
      "\u001b[01;35m2018102317013200-F489C99A244DF57DCBDC4BFD2DB926F1.jpg\u001b[0m\r\n",
      "\u001b[01;35m2018102317175400-F489C99A244DF57DCBDC4BFD2DB926F1.jpg\u001b[0m\r\n"
     ]
    }
   ],
   "source": [
    "ls"
   ]
  },
  {
   "cell_type": "code",
   "execution_count": 4,
   "metadata": {},
   "outputs": [
    {
     "name": "stdout",
     "output_type": "stream",
     "text": [
      "2018102311123800-F489C99A244DF57DCBDC4BFD2DB926F1.jpg: JPEG image data, Exif standard: [TIFF image data, big-endian, direntries=8, manufacturer=Nintendo co., ltd, orientation=upper-left, xresolution=128, yresolution=136, resolutionunit=2, datetime=2018:10:23 11:12:38], baseline, precision 8, 1280x720, frames 3\r\n"
     ]
    }
   ],
   "source": [
    "!file 2018102311123800-F489C99A244DF57DCBDC4BFD2DB926F1.jpg"
   ]
  },
  {
   "cell_type": "code",
   "execution_count": 5,
   "metadata": {},
   "outputs": [
    {
     "name": "stdout",
     "output_type": "stream",
     "text": [
      "/home/christopher/slay_the_lobby/pictures/2018/10\n"
     ]
    }
   ],
   "source": [
    "cd .."
   ]
  },
  {
   "cell_type": "code",
   "execution_count": 6,
   "metadata": {},
   "outputs": [
    {
     "name": "stdout",
     "output_type": "stream",
     "text": [
      "/home/christopher/slay_the_lobby/pictures\n"
     ]
    }
   ],
   "source": [
    "cd ../../"
   ]
  },
  {
   "cell_type": "code",
   "execution_count": 7,
   "metadata": {},
   "outputs": [
    {
     "name": "stdout",
     "output_type": "stream",
     "text": [
      "/home/christopher/slay_the_lobby/pictures/2019/08/07\n"
     ]
    }
   ],
   "source": [
    "cd 2019/08/07/"
   ]
  },
  {
   "cell_type": "code",
   "execution_count": 8,
   "metadata": {},
   "outputs": [
    {
     "name": "stdout",
     "output_type": "stream",
     "text": [
      "2019080722464100-F489C99A244DF57DCBDC4BFD2DB926F1.jpg: JPEG image data, Exif standard: [TIFF image data, big-endian, direntries=8, manufacturer=Nintendo co., ltd, orientation=upper-left, xresolution=128, yresolution=136, resolutionunit=2, datetime=2019:08:07 22:46:41], baseline, precision 8, 1280x720, frames 3\r\n"
     ]
    }
   ],
   "source": [
    "!file 2019080722464100-F489C99A244DF57DCBDC4BFD2DB926F1.jpg"
   ]
  },
  {
   "cell_type": "code",
   "execution_count": 31,
   "metadata": {},
   "outputs": [
    {
     "data": {
      "text/plain": [
       "['2019080722150400-F489C99A244DF57DCBDC4BFD2DB926F1.jpg',\n",
       " '2019080717330100-F489C99A244DF57DCBDC4BFD2DB926F1.jpg',\n",
       " '2019080721525400-F489C99A244DF57DCBDC4BFD2DB926F1.jpg',\n",
       " '2019080721253800-F489C99A244DF57DCBDC4BFD2DB926F1.jpg',\n",
       " '2019080712335400-F489C99A244DF57DCBDC4BFD2DB926F1.jpg',\n",
       " '2019080721344000-F489C99A244DF57DCBDC4BFD2DB926F1.jpg',\n",
       " '2019080712370400-F489C99A244DF57DCBDC4BFD2DB926F1.jpg',\n",
       " '2019080721472500-F489C99A244DF57DCBDC4BFD2DB926F1.jpg',\n",
       " '2019080712530600-F489C99A244DF57DCBDC4BFD2DB926F1.jpg',\n",
       " '2019080722464100-F489C99A244DF57DCBDC4BFD2DB926F1.jpg',\n",
       " '2019080712584400-F489C99A244DF57DCBDC4BFD2DB926F1.jpg']"
      ]
     },
     "execution_count": 31,
     "metadata": {},
     "output_type": "execute_result"
    }
   ],
   "source": [
    "import os\n",
    "\n",
    "test_list = os.listdir()\n",
    "test_list"
   ]
  },
  {
   "cell_type": "code",
   "execution_count": 41,
   "metadata": {},
   "outputs": [],
   "source": [
    "test_date_parse = test_list[0].split('-')\n",
    "test_date_parse = test_date_parse[0]\n",
    "test_date_parse[0:-4]\n",
    "\n",
    "def parse_date_from(file_string):\n",
    "    file_string = file_string.split('-')\n",
    "    date_string = file_string[0]\n",
    "    date_string_parse = date_string[0:-4]\n",
    "    return date_string_parse"
   ]
  },
  {
   "cell_type": "code",
   "execution_count": 46,
   "metadata": {},
   "outputs": [
    {
     "data": {
      "text/plain": [
       "['201908072215',\n",
       " '201908071733',\n",
       " '201908072152',\n",
       " '201908072125',\n",
       " '201908071233',\n",
       " '201908072134',\n",
       " '201908071237',\n",
       " '201908072147',\n",
       " '201908071253',\n",
       " '201908072246',\n",
       " '201908071258']"
      ]
     },
     "execution_count": 46,
     "metadata": {},
     "output_type": "execute_result"
    }
   ],
   "source": [
    "[ parse_date_from(test_list[i]) for i in range(len(test_list)) ]"
   ]
  },
  {
   "cell_type": "code",
   "execution_count": 47,
   "metadata": {},
   "outputs": [],
   "source": [
    "def iter_parse_dates_func(list_of_files):\n",
    "    return [ parse_date_from(list_of_files[i]) for i in range(len(list_of_files)) ]"
   ]
  },
  {
   "cell_type": "code",
   "execution_count": 66,
   "metadata": {},
   "outputs": [
    {
     "data": {
      "text/plain": [
       "['201908072215',\n",
       " '201908071733',\n",
       " '201908072152',\n",
       " '201908072125',\n",
       " '201908071233',\n",
       " '201908072134',\n",
       " '201908071237',\n",
       " '201908072147',\n",
       " '201908071253',\n",
       " '201908072246',\n",
       " '201908071258']"
      ]
     },
     "execution_count": 66,
     "metadata": {},
     "output_type": "execute_result"
    }
   ],
   "source": [
    "dates_list = iter_parse_dates_func(test_list)\n",
    "dates_list"
   ]
  },
  {
   "cell_type": "code",
   "execution_count": 52,
   "metadata": {},
   "outputs": [
    {
     "data": {
      "text/plain": [
       "'/home/christopher/slay_the_lobby/pictures/2019/08/07'"
      ]
     },
     "execution_count": 52,
     "metadata": {},
     "output_type": "execute_result"
    }
   ],
   "source": [
    "os.getcwd()"
   ]
  },
  {
   "cell_type": "code",
   "execution_count": 55,
   "metadata": {},
   "outputs": [],
   "source": [
    "aug_7_2019 = {os.getcwd() : dates_list}"
   ]
  },
  {
   "cell_type": "code",
   "execution_count": 56,
   "metadata": {},
   "outputs": [
    {
     "data": {
      "text/plain": [
       "{'/home/christopher/slay_the_lobby/pictures/2019/08/07': ['201908072215',\n",
       "  '201908071733',\n",
       "  '201908072152',\n",
       "  '201908072125',\n",
       "  '201908071233',\n",
       "  '201908072134',\n",
       "  '201908071237',\n",
       "  '201908072147',\n",
       "  '201908071253',\n",
       "  '201908072246',\n",
       "  '201908071258']}"
      ]
     },
     "execution_count": 56,
     "metadata": {},
     "output_type": "execute_result"
    }
   ],
   "source": [
    "aug_7_2019"
   ]
  },
  {
   "cell_type": "code",
   "execution_count": 63,
   "metadata": {},
   "outputs": [
    {
     "data": {
      "text/plain": [
       "['03',\n",
       " '04',\n",
       " '05',\n",
       " '06',\n",
       " '07',\n",
       " '08',\n",
       " '09',\n",
       " '10',\n",
       " '11',\n",
       " '13',\n",
       " '14',\n",
       " '15',\n",
       " '16',\n",
       " '18',\n",
       " '19',\n",
       " '20',\n",
       " '21',\n",
       " '22',\n",
       " '25',\n",
       " '27',\n",
       " '28',\n",
       " '29',\n",
       " '31']"
      ]
     },
     "execution_count": 63,
     "metadata": {},
     "output_type": "execute_result"
    }
   ],
   "source": [
    "aug_days = sorted(os.listdir())\n",
    "aug_days"
   ]
  },
  {
   "cell_type": "code",
   "execution_count": 75,
   "metadata": {},
   "outputs": [
    {
     "data": {
      "text/plain": [
       "['2019080317243700-F489C99A244DF57DCBDC4BFD2DB926F1.jpg',\n",
       " '2019080316234100-F489C99A244DF57DCBDC4BFD2DB926F1.jpg',\n",
       " '2019080313110700-F489C99A244DF57DCBDC4BFD2DB926F1.jpg',\n",
       " '2019080316394000-F489C99A244DF57DCBDC4BFD2DB926F1.jpg',\n",
       " '2019080316155000-F489C99A244DF57DCBDC4BFD2DB926F1.jpg',\n",
       " '2019080313184600-F489C99A244DF57DCBDC4BFD2DB926F1.jpg',\n",
       " '2019080316262100-F489C99A244DF57DCBDC4BFD2DB926F1.jpg',\n",
       " '2019080322544000-F489C99A244DF57DCBDC4BFD2DB926F1.jpg',\n",
       " '2019080313150000-F489C99A244DF57DCBDC4BFD2DB926F1.jpg',\n",
       " '2019080312595700-F489C99A244DF57DCBDC4BFD2DB926F1.jpg',\n",
       " '2019080313210800-F489C99A244DF57DCBDC4BFD2DB926F1.jpg',\n",
       " '2019080316094100-F489C99A244DF57DCBDC4BFD2DB926F1.jpg',\n",
       " '2019080313044200-F489C99A244DF57DCBDC4BFD2DB926F1.jpg',\n",
       " '2019080316340600-F489C99A244DF57DCBDC4BFD2DB926F1.jpg',\n",
       " '2019080316304100-F489C99A244DF57DCBDC4BFD2DB926F1.jpg']"
      ]
     },
     "execution_count": 75,
     "metadata": {},
     "output_type": "execute_result"
    }
   ],
   "source": [
    "os.listdir(os.getcwd() + '/' + sorted(os.listdir())[0])"
   ]
  },
  {
   "cell_type": "code",
   "execution_count": 79,
   "metadata": {},
   "outputs": [
    {
     "data": {
      "text/plain": [
       "'/home/christopher/slay_the_lobby/pictures/2019/08'"
      ]
     },
     "execution_count": 79,
     "metadata": {},
     "output_type": "execute_result"
    }
   ],
   "source": [
    "os.getcwd()"
   ]
  },
  {
   "cell_type": "code",
   "execution_count": 80,
   "metadata": {},
   "outputs": [],
   "source": [
    "os.chdir('/home/christopher/slay_the_lobby/pictures/2019/08/03')"
   ]
  },
  {
   "cell_type": "code",
   "execution_count": 82,
   "metadata": {},
   "outputs": [
    {
     "data": {
      "text/plain": [
       "'/home/christopher/slay_the_lobby/pictures/2019/08/03'"
      ]
     },
     "execution_count": 82,
     "metadata": {},
     "output_type": "execute_result"
    }
   ],
   "source": [
    "os.getcwd()"
   ]
  },
  {
   "cell_type": "code",
   "execution_count": null,
   "metadata": {},
   "outputs": [],
   "source": [
    "def get_days_in_month_dir():\n",
    "    '''\n",
    "    was going to write something that iterated through the day directories in the month directory and created a\n",
    "    dict for every day with a list of the pictures.\n",
    "    \n",
    "    thinking that i could go back and make the whole thing do key value pairs of the path to the image and then the\n",
    "    image date as well like\n",
    "    \n",
    "    os.getcwd() : date_parsed\n",
    "    \n",
    "    then i might be able to make another looping mechanism to show myself the pictures and enter the data.\n",
    "    \n",
    "    a\n",
    "    '''\n",
    "    \n",
    "    pass"
   ]
  }
 ],
 "metadata": {
  "kernelspec": {
   "display_name": "Python 3",
   "language": "python",
   "name": "python3"
  },
  "language_info": {
   "codemirror_mode": {
    "name": "ipython",
    "version": 3
   },
   "file_extension": ".py",
   "mimetype": "text/x-python",
   "name": "python",
   "nbconvert_exporter": "python",
   "pygments_lexer": "ipython3",
   "version": "3.7.6"
  }
 },
 "nbformat": 4,
 "nbformat_minor": 4
}

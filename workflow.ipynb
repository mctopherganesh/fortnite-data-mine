{
 "cells": [
  {
   "cell_type": "code",
   "execution_count": 1,
   "metadata": {},
   "outputs": [
    {
     "name": "stdout",
     "output_type": "stream",
     "text": [
      "# Fortnite Data Mine\r\n",
      "\r\n",
      "Alrighty. You're here and you're hoping that this is worth your time.\r\n",
      "\r\n",
      "Let me tell you it will be. Maybe. \r\n",
      "\r\n",
      "Probably not but let's face it, there is a bountiful data when it comes to video games and Fortnite is behemoth and of no exception.\r\n",
      "\r\n",
      "I will publically state that too much Fortnite for me personally might not be a great thing but if it's your job than that's that. \r\n",
      "\r\n",
      "It is a game of high skill, teamwork, and constant decision making.\r\n",
      "\r\n",
      "In this project I have a collection of nearly 1000 pictures of screenshots from the final game stats screen in the game ranging from solos, duos, trios, squads playing on the Nintendo Switch.\r\n",
      "\r\n",
      "I've always been interested in game data since Super Smash Bros would give out little awards for ridiculously tracked data points like \"highest smash damage while in the air.\"\r\n",
      "\r\n",
      "The collection of this data set could not have come by myself. I have my squad mates to thank and to honorably say, let's find another video game to play.\r\n",
      "\r\n",
      "# What's the point?\r\n",
      "\r\n",
      "I have a collection of things. Now I want to extract insights from it. How do I do it programmatically?\r\n",
      "\r\n",
      "## What I've tried.\r\n",
      "\r\n",
      "#### I have entered information by hand\r\n",
      "\r\n",
      "I have entered the information by numpad for one data entering session.\r\n",
      "\r\n",
      "I found that the OCR Tesseract Library worked less than extraordinary, not what it's name suggests. It read some data from the picture but not all. Something I definitely wished I had known the outcome of a long time before.\r\n",
      "\r\n",
      "#### I have goneback to testing pytesseract and using PIL\r\n",
      "\r\n",
      "It's an okay gimick\r\n",
      "\r\n"
     ]
    }
   ],
   "source": [
    "cat README.md"
   ]
  },
  {
   "cell_type": "markdown",
   "metadata": {},
   "source": [
    "# Fortnite Data Mine\n",
    "\n",
    "Alrighty. You're here and you're hoping that this is worth your time.\n",
    "\n",
    "Let me tell you it will be. Maybe. \n",
    "\n",
    "Probably not but let's face it, there is a bountiful data when it comes to video games and Fortnite is behemoth and of no exception.\n",
    "\n",
    "I will publically state that too much Fortnite for me personally might not be a great thing but if it's your job than that's that. \n",
    "\n",
    "It is a game of high skill, teamwork, and constant decision making.\n",
    "\n",
    "In this project I have a collection of nearly 1000 pictures of screenshots from the final game stats screen in the game ranging from solos, duos, trios, squads playing on the Nintendo Switch.\n",
    "\n",
    "I've always been interested in game data since Super Smash Bros would give out little awards for ridiculously tracked data points like \"highest smash damage while in the air.\"\n",
    "\n",
    "The collection of this data set could not have come by myself. I have my squad mates to thank and to honorably say, let's find another video game to play.\n",
    "\n",
    "# What's the point?\n",
    "\n",
    "I have data that I need in another format to mess with\n",
    "-----------------------------------------------------------------\n",
    "\n",
    "## What I've tried.\n",
    "\n",
    "### I have entered information by hand\n",
    "\n",
    "I have entered the information by numpad for one data entering session.\n",
    "\n",
    "I found that the OCR Tesseract Library worked less than extraordinary, not what it's name suggests. It read some data from the picture but not all. Something I definitely wished I had known the outcome of a long time before.\n",
    "\n",
    "##### The learning opportunity that was not wasted on me here was after that, I did what I knew to the data set and I found a bad row of data. Yay me for that.\n",
    "\n",
    "### I have goneback to testing pytesseract and using PIL\n",
    "\n",
    "Right now it's a gimmick sure but I realized as I was writing the code to pinpoint where the letters were or number was in the picture, I was(read: could) also building a cobbled together picture-observation-organizer. I could use that data to train my own machine army to read those numbers and letters.\n",
    "\n",
    "##### This is much farther down the line"
   ]
  },
  {
   "cell_type": "code",
   "execution_count": null,
   "metadata": {},
   "outputs": [],
   "source": []
  }
 ],
 "metadata": {
  "kernelspec": {
   "display_name": "Python 3",
   "language": "python",
   "name": "python3"
  },
  "language_info": {
   "codemirror_mode": {
    "name": "ipython",
    "version": 3
   },
   "file_extension": ".py",
   "mimetype": "text/x-python",
   "name": "python",
   "nbconvert_exporter": "python",
   "pygments_lexer": "ipython3",
   "version": "3.7.3"
  }
 },
 "nbformat": 4,
 "nbformat_minor": 2
}
